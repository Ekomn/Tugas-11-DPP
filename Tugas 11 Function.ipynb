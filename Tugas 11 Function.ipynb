{
 "cells": [
  {
   "cell_type": "markdown",
   "metadata": {},
   "source": [
    "<h2>Pengertian</h2>\n",
    "<ol>\n",
    "    <li>Fungsi pada python adalah kumpulan perintah atau baris kode yang dikelompokkan menjadi satu kesatuan untuk kemudian bisa dipanggil atau digunakan berkali-kali.</li>\n",
    "    <li>Sebuah fungsi dapat menerima parameter, dapat mengembalikan suatu nilai, dan dapat dipanggil berkali-kali secara independen.</li>\n",
    "</ol>\n",
    "<hr>\n",
    "<h2>Keuntungan</h2>\n",
    "<ol>\n",
    "    <li>Membagi kode program menjadi bagian-bagian kecil dengan tugasnya masing-masing.</li>\n",
    "    <li>Membuat kode program menjadi lebih “reusable” dan lebih terstruktur.</li>\n",
    "</ol>\n",
    "<hr>\n",
    "<h2>Sintaks</h2>\n",
    "\n",
    "```python\n",
    "def function_name():\n",
    "    Logic Program\n",
    "```\n",
    "Cara memanggil fungsi dengan menuliskan function_name diikuti kurung buka tutup () beserta parameter jika ada\n",
    "\n",
    "```python\n",
    "    function_name()\n",
    "```\n",
    "<hr>\n",
    "Buatlah fungsi dengan nama \"helloPython\" yang berfungsi untuk mencetak \"Welcome in Python Language\" "
   ]
  },
  {
   "cell_type": "code",
   "execution_count": 60,
   "metadata": {},
   "outputs": [
    {
     "name": "stdout",
     "output_type": "stream",
     "text": [
      "Welcome in Python Language\n"
     ]
    }
   ],
   "source": [
    "#Fungsi Sintaks\n",
    "def helloPython():\n",
    "    print('Welcome in Python Language')\n",
    "helloPython()"
   ]
  },
  {
   "cell_type": "markdown",
   "metadata": {},
   "source": [
    "<h1>Fungsi dengan parameter</h1>\n",
    "Sebuah fungsi dapat menerima parameter ataupun argumen yang merupakan suatu nilai/variabel yang dilemparkan ke dalam fungsi untuk diproses lebih lanjut.\n",
    "\n",
    "<h2>Sintaks</h2>\n",
    "\n",
    "```python\n",
    "def function_name(param):\n",
    "    Logic Program\n",
    "```\n",
    "Cara memanggil fungsi dengan menuliskan function_name diikuti kurung buka tutup () beserta parameter\n",
    "\n",
    "```python\n",
    "    function_name(param)\n",
    "```\n",
    "<hr>"
   ]
  },
  {
   "cell_type": "markdown",
   "metadata": {},
   "source": [
    "Buatlah fungsi dengan nama \"fullName\" yang mempunyai parameter \"firstname\" dan \"lastname\" digunakan untuk mencetak \"firstname\" dan \"lastname\""
   ]
  },
  {
   "cell_type": "code",
   "execution_count": 65,
   "metadata": {},
   "outputs": [
    {
     "name": "stdout",
     "output_type": "stream",
     "text": [
      "firstname : Eko Memen\n",
      "lastname : Nuryaman\n"
     ]
    }
   ],
   "source": [
    "#Fungsi dengan parameter Sintaks\n",
    "\n",
    "def fullName():\n",
    "    print('firstname :', 'Eko Memen')\n",
    "    print('lastname :', 'Nuryaman')\n",
    "   \n",
    "fullName()"
   ]
  },
  {
   "cell_type": "markdown",
   "metadata": {},
   "source": [
    "Parameter fungsi diperbolehkan menggunakan lebih dari 1, dimana paramater tersebut ada yang wajib harus diisi dan ada yang tidak harus diisi\n",
    "\n",
    "```python\n",
    "def function_name(param_1, param_2, param_3,....):\n",
    "    Logic Program\n",
    "```\n",
    "\n",
    "Cara memanggil fungsi dengan menuliskan function_name diikuti kurung buka tutup () beserta parameter\n",
    "\n",
    "```python\n",
    "    function_name(param_1, param_2, param_3)\n",
    "```\n",
    "<hr>\n",
    "Buatlah fungsi dengan nama maxValue yang mempunyai parameter \"val_1\",\"val_2\" dan \"val_3\" yang bertujuan untuk mencari nilai terbesar dari 3 nilai tersebut"
   ]
  },
  {
   "cell_type": "code",
   "execution_count": 8,
   "metadata": {},
   "outputs": [
    {
     "name": "stdout",
     "output_type": "stream",
     "text": [
      "nilai minimum ; 5\n",
      "nilai minimum ; 15\n"
     ]
    }
   ],
   "source": [
    "# mencari nilai terbesar dari 3 nilai\n",
    "a = 5\n",
    "b = 10\n",
    "c = 15\n",
    "print('nilai minimum ;', min(a,b,c,))\n",
    "print('nilai minimum ;', max(a,b,c,))\n"
   ]
  },
  {
   "cell_type": "markdown",
   "metadata": {},
   "source": [
    "Parameter opsional digunakan pada fungsi dengan cara memberikan nilai default, artinya nilai parameter sudah diberikan terlebih dahulu tanpa dipanggil\n",
    "\n",
    "```python\n",
    "def function_name(param_1, param_2, param_3 = 'Nilai'):\n",
    "    Logic Program\n",
    "```"
   ]
  },
  {
   "cell_type": "markdown",
   "metadata": {},
   "source": [
    "Buatlah fungsi \"countCircleArea\" dengan 2 parameter yaitu \"phi\" dan \"diameter\" dimana parameter phi mempunyai nilai default 3.14"
   ]
  },
  {
   "cell_type": "code",
   "execution_count": 48,
   "metadata": {},
   "outputs": [
    {
     "name": "stdout",
     "output_type": "stream",
     "text": [
      "luas 131.88\n"
     ]
    }
   ],
   "source": [
    "#Menghitung Luas Lingkaran\n",
    "\n",
    "def countCircleArea(jejari):\n",
    "    phi = 3.14\n",
    "    luas = phi * (jejari^2)\n",
    "    print(\"luas\", luas)\n",
    "    \n",
    "countCircleArea(40)"
   ]
  },
  {
   "cell_type": "markdown",
   "metadata": {},
   "source": [
    "Fungsi dengan 2 Parameter opsional juga dapat dilakukan pada Python. \n",
    "\n",
    "```python\n",
    "def info(suhu, daerah='Sukabumi', satuan = 'Celcius'):\n",
    "    print(f\"Suhu sekarang di {daerah} : {suhu} {satuan} \")\n",
    "```\n",
    "Adapun Cara memanggilnya\n",
    "\n",
    "```python\n",
    "    info(30)\n",
    "```"
   ]
  },
  {
   "cell_type": "code",
   "execution_count": 9,
   "metadata": {},
   "outputs": [
    {
     "name": "stdout",
     "output_type": "stream",
     "text": [
      "Suhu sekarang di Sukabumi : 30 Celcius \n"
     ]
    }
   ],
   "source": [
    "#Cobalah fungsi tersebut pada area kode disini\n",
    "\n",
    "def info(suhu, daerah='Sukabumi', satuan = 'Celcius'):\n",
    "    print(f\"Suhu sekarang di {daerah} : {suhu} {satuan} \")\n",
    "    \n",
    "info(30)"
   ]
  },
  {
   "cell_type": "markdown",
   "metadata": {},
   "source": [
    "<h1>Fungsi dengan Return Value</h1>\n",
    "\n",
    "Yaitu fungsi dimana akhir dari programnya adalah nilai kembalian atau nilai balik. Artinya nilai dalam fungsi dapat ditampung lagi ke variabel lain untuk digunakan operasi lebih lanjut.\n",
    "\n",
    "Buatlah fungsi dengan return value yang digunakan untuk mengecek sebuah bilangan termasuk bilangan negatif, bilangan neteral(0) dan bilangan positif"
   ]
  },
  {
   "cell_type": "code",
   "execution_count": 3,
   "metadata": {},
   "outputs": [],
   "source": [
    "def check_number(num):\n",
    "    if num > 0:\n",
    "        return \"positive\"\n",
    "    elif num < 0:\n",
    "        return \"negative\" \n",
    "    else:\n",
    "        return \"neutral\""
   ]
  },
  {
   "cell_type": "markdown",
   "metadata": {},
   "source": [
    "<h3>Soal Latihan</h3>\n",
    "<ol>\n",
    "    <li>Buatlah fungsi untuk menjumlahkan total nilai dari list</li>\n",
    "    <li>Buatlah fungsi untuk mencari nilai terbesar dari sekumpulan list </li>\n",
    "    <li>Buatlah fungsi untuk menjumlahkan 2 buah list </li>\n",
    "</ol>\n"
   ]
  },
  {
   "cell_type": "code",
   "execution_count": 11,
   "metadata": {},
   "outputs": [
    {
     "name": "stdout",
     "output_type": "stream",
     "text": [
      "Total nilai dari list adalah 150\n"
     ]
    }
   ],
   "source": [
    "#Soal 1 - Buatlah fungsi untuk menjumlahkan total nilai dari list\n",
    "\n",
    "def sum_list(lst):\n",
    "    total=0\n",
    "    for value in lst :\n",
    "        total+=value\n",
    "    return total\n",
    "numbers = [10,20,30,40,50]\n",
    "total = sum_list(numbers)\n",
    "print(f\"Total nilai dari list adalah {total}\")\n"
   ]
  },
  {
   "cell_type": "code",
   "execution_count": 2,
   "metadata": {},
   "outputs": [
    {
     "name": "stdout",
     "output_type": "stream",
     "text": [
      "Nilai terbesar dari sekumpulan list adalah 90\n"
     ]
    }
   ],
   "source": [
    "#Soal 2 Buatlah fungsi untuk mencari nilai terbesar dari sekumpulan list\n",
    "\n",
    "def find_max_value(lists):\n",
    "    max_value = float(\"-inf\")\n",
    "    for list in lists:\n",
    "        if max(list) > max_value:\n",
    "            max_value = max(list)\n",
    "    return max_value\n",
    "\n",
    "lists = [[10, 20, 30], [40, 50, 60], [70, 80, 90]]\n",
    "max_value = find_max_value(lists)\n",
    "print(f\"Nilai terbesar dari sekumpulan list adalah {max_value}\")"
   ]
  },
  {
   "cell_type": "code",
   "execution_count": 59,
   "metadata": {},
   "outputs": [
    {
     "name": "stdout",
     "output_type": "stream",
     "text": [
      "[250, 360, 470]\n"
     ]
    }
   ],
   "source": [
    "#Soal 3 Buatlah fungsi untuk menjumlahkan 2 buah list \n",
    "\n",
    "def sum_list(list1, list2):\n",
    "    result = []\n",
    "    for i in range(len(list1)):\n",
    "        result.append(list1[i]+list2[i])\n",
    "    return result\n",
    "\n",
    "list1=[110,210,310]\n",
    "list2=[140,150,160]\n",
    "result=sum_list(list1,list2)\n",
    "print(result)"
   ]
  },
  {
   "cell_type": "code",
   "execution_count": null,
   "metadata": {},
   "outputs": [],
   "source": [
    "#Eko Memen Nuryaman"
   ]
  }
 ],
 "metadata": {
  "kernelspec": {
   "display_name": "Python 3 (ipykernel)",
   "language": "python",
   "name": "python3"
  },
  "language_info": {
   "codemirror_mode": {
    "name": "ipython",
    "version": 3
   },
   "file_extension": ".py",
   "mimetype": "text/x-python",
   "name": "python",
   "nbconvert_exporter": "python",
   "pygments_lexer": "ipython3",
   "version": "3.9.12"
  }
 },
 "nbformat": 4,
 "nbformat_minor": 4
}
